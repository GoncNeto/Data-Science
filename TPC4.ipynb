{
  "nbformat": 4,
  "nbformat_minor": 0,
  "metadata": {
    "colab": {
      "name": "TPC4.ipynb",
      "version": "0.3.2",
      "provenance": [],
      "collapsed_sections": [],
      "include_colab_link": true
    },
    "kernelspec": {
      "name": "python3",
      "display_name": "Python 3"
    }
  },
  "cells": [
    {
      "cell_type": "markdown",
      "metadata": {
        "id": "view-in-github",
        "colab_type": "text"
      },
      "source": [
        "<a href=\"https://colab.research.google.com/github/GoncNeto/Data-Science/blob/master/TPC4.ipynb\" target=\"_parent\"><img src=\"https://colab.research.google.com/assets/colab-badge.svg\" alt=\"Open In Colab\"/></a>"
      ]
    },
    {
      "metadata": {
        "id": "VY6SuHkDyyEp",
        "colab_type": "code",
        "outputId": "4e44ad97-26aa-4276-ffb0-d7b5f9230f9f",
        "colab": {
          "base_uri": "https://localhost:8080/",
          "height": 425
        }
      },
      "cell_type": "code",
      "source": [
        "from sklearn import datasets, tree, model_selection\n",
        "import pandas as pd\n",
        "import numpy as np\n",
        "import matplotlib.pyplot as plt\n",
        "\n",
        "from matplotlib.colors import ListedColormap\n",
        "from sklearn.ensemble import RandomForestClassifier\n",
        "from sklearn.datasets import load_iris\n",
        "\n",
        "from sklearn import datasets\n",
        "from sklearn import datasets, tree, model_selection\n",
        "from sklearn.naive_bayes import GaussianNB\n",
        "\n",
        "from sklearn import model_selection\n",
        "\n",
        "from sklearn import datasets\n",
        "\n",
        "# ----- Ponto 1 -----\n",
        "# The digits dataset\n",
        "digits = datasets.load_digits()\n",
        "\n",
        "# Aula 7 - Decision Tree\n",
        "[features_train, features_test, classes_train, classes_test] = model_selection.train_test_split(digits.data, digits.target, test_size=0.30)\n",
        "model = tree.DecisionTreeClassifier()\n",
        "\n",
        "clf = model.fit(features_train, classes_train)\n",
        "\n",
        "score_train = model.score(features_train, classes_train)\n",
        "score_test = model.score(features_test, classes_test)\n",
        "\n",
        "print(\"Decision Tree\")\n",
        "print(\"Features:\", digits.target_names)\n",
        "print(\"score_train:\", score_train)\n",
        "print(\"score_test:\", score_test)\n",
        "print(\"\\n\")\n",
        "\n",
        "\n",
        "# Aula 7 - Random Forest\n",
        "model2 = RandomForestClassifier(n_estimators=1000)\n",
        "\n",
        "clf = model2.fit(features_train, classes_train)\n",
        "\n",
        "score_train = model2.score(features_train, classes_train)\n",
        "score_test = model2.score(features_test, classes_test)\n",
        "\n",
        "print(\"Random Forest\")\n",
        "print(\"score_train:\", score_train)\n",
        "print(\"score_test:\", score_test)\n",
        "print(\"\\n\")\n",
        "\n",
        "\n",
        "\n",
        "# Aula 9 - Naive Bayes\n",
        "gnb = GaussianNB()\n",
        "\n",
        "y_pred = gnb.fit(features_train, classes_train)\n",
        "\n",
        "score_train = gnb.score(features_train, classes_train)\n",
        "score_test = gnb.score(features_test, classes_test)\n",
        "\n",
        "print(\"Naive Bayes\")\n",
        "print(\"score_train:\", score_train)\n",
        "print(\"score_test:\", score_test)\n",
        "print(\"\\n\")\n",
        "\n",
        "# ----- Ponto 2 ----- \n",
        "# Aula 6\n",
        "S = np.arange(digits.data.shape[0])\n",
        "np.random.shuffle(S)\n",
        "index_train = S[:int(digits.data.shape[0]*0.8)]\n",
        "index_test = S[int(digits.data.shape[0]*0.2):] # Stor mencionou na aula que dados de teste são 20%\n",
        "\n",
        "print(\"Train: \",index_train.shape[0])\n",
        "print(\"Test: \",index_test.shape[0])\n",
        "print(\"------\")\n",
        "\n",
        "frame = np.concatenate([digits.data,digits.target.reshape(-1,1)], axis=1)\n",
        "frame_train = frame[index_train,:]\n",
        "frame_test = frame[index_test,:]\n",
        "\n",
        "\n",
        "print(\"initial train data:\")\n",
        "print(frame_train.shape)\n",
        "print(\"------\")\n",
        "print(\"initial test data:\")\n",
        "print(frame_test.shape)\n",
        "\n"
      ],
      "execution_count": 3,
      "outputs": [
        {
          "output_type": "stream",
          "text": [
            "Decision Tree\n",
            "Features: [0 1 2 3 4 5 6 7 8 9]\n",
            "score_train: 1.0\n",
            "score_test: 0.8444444444444444\n",
            "\n",
            "\n",
            "Random Forest\n",
            "score_train: 1.0\n",
            "score_test: 0.9796296296296296\n",
            "\n",
            "\n",
            "Naive Bayes\n",
            "score_train: 0.8337311058074781\n",
            "score_test: 0.8148148148148148\n",
            "\n",
            "\n",
            "Train:  1437\n",
            "Test:  1438\n",
            "------\n",
            "initial train data:\n",
            "(1437, 65)\n",
            "------\n",
            "initial test data:\n",
            "(1438, 65)\n"
          ],
          "name": "stdout"
        }
      ]
    },
    {
      "metadata": {
        "id": "tLiXK7BCBQvQ",
        "colab_type": "text"
      },
      "cell_type": "markdown",
      "source": [
        "**Ponto 3 - Test set de instâncias mal bem classificadas: **"
      ]
    },
    {
      "metadata": {
        "id": "8VQJDJJfBPA7",
        "colab_type": "code",
        "outputId": "760c7566-033c-4034-96c8-6688c131813e",
        "colab": {
          "base_uri": "https://localhost:8080/",
          "height": 740
        }
      },
      "cell_type": "code",
      "source": [
        "print(\"Resultados mal classificados:\")\n",
        "res = model.predict(features_test)\n",
        "err_features=features_test[res!=classes_test,:][:2]\n",
        "print(\"Atual: \",classes_test[res!=classes_test])\n",
        "print(\"Predição:\",res[res!=classes_test])\n",
        "\n",
        "plt.figure()\n",
        "for i,feat in enumerate(err_features):\n",
        "    plt.subplot(1, 2, i+1)    \n",
        "    plt.imshow(feat.reshape(8,8), cmap='gray')\n",
        "\n",
        "plt.show()\n",
        "print(\"\")\n",
        "\n",
        "\n",
        "ok_features=features_test[res==classes_test,:][:2]\n",
        "\n",
        "print(\"Resultados bem classificados:\")\n",
        "print(\"Atual: \",classes_test[res!=classes_test])\n",
        "print(\"Predição:\",res[res!=classes_test])\n",
        "plt.figure()\n",
        "for i,feat in enumerate(ok_features):\n",
        "    plt.subplot(1, 2, i+1)    \n",
        "    plt.imshow(feat.reshape(8,8), cmap='gray')"
      ],
      "execution_count": 4,
      "outputs": [
        {
          "output_type": "stream",
          "text": [
            "Resultados mal classificados:\n",
            "Atual:  [5 6 2 7 3 8 1 6 2 3 3 1 5 2 2 1 4 9 5 8 4 5 1 3 5 5 8 3 1 7 4 5 9 8 4 8 6\n",
            " 9 1 3 6 9 8 9 3 1 5 2 2 6 8 7 8 3 9 4 1 8 2 4 1 4 5 3 4 1 8 1 1 8 8 4 5 2\n",
            " 9 1 8 8 2 8 2 2 9 6]\n",
            "Predição: [9 4 1 1 5 4 4 9 0 9 2 2 4 7 7 3 0 5 9 9 1 0 8 8 4 9 7 5 6 2 0 9 2 9 9 1 4\n",
            " 3 9 9 4 3 2 3 7 3 8 3 8 4 9 9 7 6 2 1 2 5 5 9 3 7 6 9 5 0 9 8 4 4 1 6 9 7\n",
            " 3 2 7 7 7 4 3 1 3 1]\n"
          ],
          "name": "stdout"
        },
        {
          "output_type": "display_data",
          "data": {
            "image/png": "[encoded data removed]",
            "text/plain": [
              "<Figure size 576x396 with 2 Axes>"
            ]
          },
          "metadata": {
            "tags": []
          }
        },
        {
          "output_type": "stream",
          "text": [
            "\n",
            "Resultados bem classificados:\n",
            "Atual:  [5 6 2 7 3 8 1 6 2 3 3 1 5 2 2 1 4 9 5 8 4 5 1 3 5 5 8 3 1 7 4 5 9 8 4 8 6\n",
            " 9 1 3 6 9 8 9 3 1 5 2 2 6 8 7 8 3 9 4 1 8 2 4 1 4 5 3 4 1 8 1 1 8 8 4 5 2\n",
            " 9 1 8 8 2 8 2 2 9 6]\n",
            "Predição: [9 4 1 1 5 4 4 9 0 9 2 2 4 7 7 3 0 5 9 9 1 0 8 8 4 9 7 5 6 2 0 9 2 9 9 1 4\n",
            " 3 9 9 4 3 2 3 7 3 8 3 8 4 9 9 7 6 2 1 2 5 5 9 3 7 6 9 5 0 9 8 4 4 1 6 9 7\n",
            " 3 2 7 7 7 4 3 1 3 1]\n"
          ],
          "name": "stdout"
        },
        {
          "output_type": "display_data",
          "data": {
            "image/png": "[encoded data removed]",
            "text/plain": [
              "<Figure size 576x396 with 2 Axes>"
            ]
          },
          "metadata": {
            "tags": []
          }
        }
      ]
    }
  ]
}