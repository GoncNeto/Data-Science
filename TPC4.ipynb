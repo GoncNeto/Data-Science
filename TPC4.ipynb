{
  "nbformat": 4,
  "nbformat_minor": 0,
  "metadata": {
    "colab": {
      "name": "TPC4.ipynb",
      "version": "0.3.2",
      "provenance": [],
      "collapsed_sections": [],
      "include_colab_link": true
    },
    "kernelspec": {
      "name": "python3",
      "display_name": "Python 3"
    }
  },
  "cells": [
    {
      "cell_type": "markdown",
      "metadata": {
        "id": "view-in-github",
        "colab_type": "text"
      },
      "source": [
        "<a href=\"https://colab.research.google.com/github/GoncNeto/Data-Science/blob/master/TPC4.ipynb\" target=\"_parent\"><img src=\"https://colab.research.google.com/assets/colab-badge.svg\" alt=\"Open In Colab\"/></a>"
      ]
    },
    {
      "metadata": {
        "id": "VY6SuHkDyyEp",
        "colab_type": "code",
        "outputId": "fc8a9057-e1d5-4e0a-9002-12c5d6ec06ff",
        "colab": {
          "base_uri": "https://localhost:8080/",
          "height": 425
        }
      },
      "cell_type": "code",
      "source": [
        "from sklearn import datasets, tree, model_selection\n",
        "import pandas as pd\n",
        "import numpy as np\n",
        "import matplotlib.pyplot as plt\n",
        "\n",
        "from matplotlib.colors import ListedColormap\n",
        "from sklearn.ensemble import RandomForestClassifier\n",
        "from sklearn.datasets import load_iris\n",
        "\n",
        "from sklearn import datasets\n",
        "from sklearn import datasets, tree, model_selection\n",
        "from sklearn.naive_bayes import GaussianNB\n",
        "\n",
        "from sklearn import model_selection\n",
        "\n",
        "from sklearn import datasets\n",
        "\n",
        "# ----- Ponto 1 -----\n",
        "# The digits dataset\n",
        "digits = datasets.load_digits()\n",
        "\n",
        "# Aula 7 - Decision Tree\n",
        "[features_train, features_test, classes_train, classes_test] = model_selection.train_test_split(digits.data, digits.target, test_size=0.30)\n",
        "model = tree.DecisionTreeClassifier()\n",
        "\n",
        "clf = model.fit(features_train, classes_train)\n",
        "\n",
        "score_train = model.score(features_train, classes_train)\n",
        "score_test = model.score(features_test, classes_test)\n",
        "\n",
        "print(\"Decision Tree\")\n",
        "print(\"Features:\", digits.target_names)\n",
        "print(\"score_train:\", score_train)\n",
        "print(\"score_test:\", score_test)\n",
        "print(\"\\n\")\n",
        "\n",
        "\n",
        "# Aula 7 - Random Forest\n",
        "model2 = RandomForestClassifier(n_estimators=1000)\n",
        "\n",
        "clf = model2.fit(features_train, classes_train)\n",
        "\n",
        "score_train = model2.score(features_train, classes_train)\n",
        "score_test = model2.score(features_test, classes_test)\n",
        "\n",
        "print(\"Random Forest\")\n",
        "print(\"score_train:\", score_train)\n",
        "print(\"score_test:\", score_test)\n",
        "print(\"\\n\")\n",
        "\n",
        "\n",
        "\n",
        "# Aula 9 - Naive Bayes\n",
        "gnb = GaussianNB()\n",
        "\n",
        "y_pred = gnb.fit(features_train, classes_train)\n",
        "\n",
        "score_train = gnb.score(features_train, classes_train)\n",
        "score_test = gnb.score(features_test, classes_test)\n",
        "\n",
        "print(\"Naive Bayes\")\n",
        "print(\"score_train:\", score_train)\n",
        "print(\"score_test:\", score_test)\n",
        "print(\"\\n\")\n",
        "\n",
        "# ----- Ponto 2 ----- \n",
        "# Aula 6\n",
        "S = np.arange(digits.data.shape[0])\n",
        "np.random.shuffle(S)\n",
        "index_train = S[:int(digits.data.shape[0]*0.8)]\n",
        "index_test = S[int(digits.data.shape[0]*0.2):] # Stor mencionou na aula que dados de teste são 20%\n",
        "\n",
        "print(\"Train: \",index_train.shape[0])\n",
        "print(\"Test: \",index_test.shape[0])\n",
        "print(\"------\")\n",
        "\n",
        "frame = np.concatenate([digits.data,digits.target.reshape(-1,1)], axis=1)\n",
        "frame_train = frame[index_train,:]\n",
        "frame_test = frame[index_test,:]\n",
        "\n",
        "\n",
        "print(\"initial train data:\")\n",
        "print(frame_train.shape)\n",
        "print(\"------\")\n",
        "print(\"initial test data:\")\n",
        "print(frame_test.shape)\n",
        "\n"
      ],
      "execution_count": 1,
      "outputs": [
        {
          "output_type": "stream",
          "text": [
            "Decision Tree\n",
            "Features: [0 1 2 3 4 5 6 7 8 9]\n",
            "score_train: 1.0\n",
            "score_test: 0.8629629629629629\n",
            "\n",
            "\n",
            "Random Forest\n",
            "score_train: 1.0\n",
            "score_test: 0.9740740740740741\n",
            "\n",
            "\n",
            "Naive Bayes\n",
            "score_train: 0.8878281622911695\n",
            "score_test: 0.8629629629629629\n",
            "\n",
            "\n",
            "Train:  1437\n",
            "Test:  1438\n",
            "------\n",
            "initial train data:\n",
            "(1437, 65)\n",
            "------\n",
            "initial test data:\n",
            "(1438, 65)\n"
          ],
          "name": "stdout"
        }
      ]
    },
    {
      "metadata": {
        "id": "tLiXK7BCBQvQ",
        "colab_type": "text"
      },
      "cell_type": "markdown",
      "source": [
        "**Ponto 3 - Test set de instâncias mal bem classificadas: **"
      ]
    },
    {
      "metadata": {
        "id": "8VQJDJJfBPA7",
        "colab_type": "code",
        "colab": {
          "base_uri": "https://localhost:8080/",
          "height": 316
        },
        "outputId": "15d80901-93a5-4c77-f8ef-f2e5df02fb66"
      },
      "cell_type": "code",
      "source": [
        ""
      ],
      "execution_count": 2,
      "outputs": [
        {
          "output_type": "error",
          "ename": "NameError",
          "evalue": "ignored",
          "traceback": [
            "\u001b[0;31m---------------------------------------------------------------------------\u001b[0m",
            "\u001b[0;31mNameError\u001b[0m                                 Traceback (most recent call last)",
            "\u001b[0;32m<ipython-input-2-b5084fc119b4>\u001b[0m in \u001b[0;36m<module>\u001b[0;34m()\u001b[0m\n\u001b[1;32m     11\u001b[0m \u001b[0;34m\u001b[0m\u001b[0m\n\u001b[1;32m     12\u001b[0m \u001b[0;34m\u001b[0m\u001b[0m\n\u001b[0;32m---> 13\u001b[0;31m \u001b[0mclassificar\u001b[0m\u001b[0;34m(\u001b[0m\u001b[0;34m)\u001b[0m\u001b[0;34m;\u001b[0m\u001b[0;34m\u001b[0m\u001b[0;34m\u001b[0m\u001b[0m\n\u001b[0m",
            "\u001b[0;32m<ipython-input-2-b5084fc119b4>\u001b[0m in \u001b[0;36mclassificar\u001b[0;34m()\u001b[0m\n\u001b[1;32m      2\u001b[0m \u001b[0;34m\u001b[0m\u001b[0m\n\u001b[1;32m      3\u001b[0m   \u001b[0mvalores\u001b[0m \u001b[0;34m=\u001b[0m \u001b[0;34m[\u001b[0m\u001b[0;34m]\u001b[0m\u001b[0;34m\u001b[0m\u001b[0;34m\u001b[0m\u001b[0m\n\u001b[0;32m----> 4\u001b[0;31m   \u001b[0;32mfor\u001b[0m \u001b[0mi\u001b[0m \u001b[0;32min\u001b[0m \u001b[0mdigits\u001b[0m\u001b[0;34m.\u001b[0m\u001b[0mtarget\u001b[0m\u001b[0;34m:\u001b[0m\u001b[0;34m\u001b[0m\u001b[0;34m\u001b[0m\u001b[0m\n\u001b[0m\u001b[1;32m      5\u001b[0m     \u001b[0;31m# Comparar valores das Labels de Previsão do test set com o valores das Features\u001b[0m\u001b[0;34m\u001b[0m\u001b[0;34m\u001b[0m\u001b[0;34m\u001b[0m\u001b[0m\n\u001b[1;32m      6\u001b[0m     \u001b[0;32mif\u001b[0m \u001b[0mprever\u001b[0m\u001b[0;34m.\u001b[0m\u001b[0mall\u001b[0m\u001b[0;34m(\u001b[0m\u001b[0;34m)\u001b[0m \u001b[0;34m!=\u001b[0m \u001b[0mdigits\u001b[0m\u001b[0;34m.\u001b[0m\u001b[0mtarget\u001b[0m\u001b[0;34m[\u001b[0m\u001b[0mi\u001b[0m\u001b[0;34m]\u001b[0m\u001b[0;34m:\u001b[0m\u001b[0;34m\u001b[0m\u001b[0;34m\u001b[0m\u001b[0m\n",
            "\u001b[0;31mNameError\u001b[0m: name 'digits' is not defined"
          ]
        }
      ]
    }
  ]
}