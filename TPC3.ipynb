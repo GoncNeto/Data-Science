{
  "nbformat": 4,
  "nbformat_minor": 0,
  "metadata": {
    "colab": {
      "name": "TPC3.ipynb",
      "version": "0.3.2",
      "provenance": [],
      "collapsed_sections": [],
      "include_colab_link": true
    },
    "kernelspec": {
      "name": "python3",
      "display_name": "Python 3"
    }
  },
  "cells": [
    {
      "cell_type": "markdown",
      "metadata": {
        "id": "view-in-github",
        "colab_type": "text"
      },
      "source": [
        "<a href=\"https://colab.research.google.com/github/GoncNeto/Data-Science/blob/master/TPC3.ipynb\" target=\"_parent\"><img src=\"https://colab.research.google.com/assets/colab-badge.svg\" alt=\"Open In Colab\"/></a>"
      ]
    },
    {
      "metadata": {
        "id": "TvBcDd6SGD_l",
        "colab_type": "code",
        "outputId": "a034103d-4b43-4415-85b2-fa94af3e7137",
        "colab": {
          "base_uri": "https://localhost:8080/",
          "height": 85
        }
      },
      "cell_type": "code",
      "source": [
        "from sklearn import datasets\n",
        "import pandas as pd\n",
        "import numpy as np\n",
        "import matplotlib.pyplot as plt\n",
        "\n",
        "#1) Aggregation\n",
        "    #Create data frame\n",
        "df = pd.DataFrame(dados, columns=newfeature)\n",
        "df.head()\n",
        "    #Agregg\n",
        "aggregation = df.groupby(\"MedInc\").agg([\"max\"])  \n",
        "aggregation\n",
        "\n",
        "#2) Sampling\n",
        "print(\"Sampling: \\n\", np.random.random_sample()) \n",
        "\n",
        "#6) Feature Creation \n",
        "    #import data\n",
        "data = datasets.california_housing.fetch_california_housing() \n",
        "dados = np.column_stack((data.data,data.target))\n",
        "    #New feature\n",
        "newfeature = data.feature_names + [\"MedInc\"] \n",
        "\n",
        "#4) Dimensionality Reduction \n",
        "df.loc[0:9,[\"Latitude\",\"Longitude\"]]\n",
        "\n",
        "#5)  Feature Subset Selection \n",
        "df.sort_values(\"Population\").iloc[0:4,:]\n",
        "\n",
        "#8) Attribute Transformation\n",
        "df.groupby(\"AveRooms\")[\"AveBedrms\"].transform('sum')\n",
        "df[\"total_quartos\"] = df.groupby('AveRooms')[\"AveBedrms\"].transform('sum')\n",
        "df\n",
        "df[\"Percent_of_Order\"] = df[\"AveRooms\"] / df[\"AveBedrms\"]"
      ],
      "execution_count": 13,
      "outputs": [
        {
          "output_type": "stream",
          "text": [
            "Sampling: \n",
            " 0.6829290717856042\n",
            "Sampling: \n",
            " ['MedInc', 'HouseAge', 'AveRooms', 'AveBedrms', 'Population', 'AveOccup', 'Latitude', 'Longitude', 'Valor']\n"
          ],
          "name": "stdout"
        }
      ]
    }
  ]
}